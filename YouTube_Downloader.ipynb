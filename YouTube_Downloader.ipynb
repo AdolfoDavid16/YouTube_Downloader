{
  "nbformat": 4,
  "nbformat_minor": 0,
  "metadata": {
    "colab": {
      "provenance": [],
      "authorship_tag": "ABX9TyMluMGtE//3Bl8ueJ++HgRB",
      "include_colab_link": true
    },
    "kernelspec": {
      "name": "python3",
      "display_name": "Python 3"
    },
    "language_info": {
      "name": "python"
    }
  },
  "cells": [
    {
      "cell_type": "markdown",
      "metadata": {
        "id": "view-in-github",
        "colab_type": "text"
      },
      "source": [
        "<a href=\"https://colab.research.google.com/github/AdolfoDavid16/YouTube_Downloader/blob/main/YouTube_Downloader.ipynb\" target=\"_parent\"><img src=\"https://colab.research.google.com/assets/colab-badge.svg\" alt=\"Open In Colab\"/></a>"
      ]
    },
    {
      "cell_type": "code",
      "execution_count": null,
      "metadata": {
        "id": "8uwFskxPx8U0"
      },
      "outputs": [],
      "source": [
        "#instalamos la librería que necesitamos\n",
        "!pip install pytube"
      ]
    },
    {
      "cell_type": "markdown",
      "source": [
        "# - SOLO PARA DESCARGAR VIDEO"
      ],
      "metadata": {
        "id": "yB_dIpRBCH5G"
      }
    },
    {
      "cell_type": "code",
      "source": [
        "import pytube\n",
        "# pedirle al usuario que ingrese el link de YouTube\n",
        "video_url = input(\"Ingresa el Link: \")\n",
        "\n",
        "# Crear una instancia de YouTube\n",
        "video_instance = pytube.YouTube(video_url)\n",
        "stream = video_instance.streams.get_highest_resolution()\n",
        "\n",
        "# Descargar\n",
        "stream.download()\n"
      ],
      "metadata": {
        "colab": {
          "base_uri": "https://localhost:8080/",
          "height": 53
        },
        "id": "WcOm0X20ydbT",
        "outputId": "5deb4a36-3f97-4ae9-b992-1c92ef79ecb0"
      },
      "execution_count": null,
      "outputs": [
        {
          "name": "stdout",
          "output_type": "stream",
          "text": [
            "Ingresa el Link: https://www.youtube.com/watch?v=OuQ7Att6ZTg\n"
          ]
        },
        {
          "output_type": "execute_result",
          "data": {
            "text/plain": [
              "'/content/Busca Un Confidente Los Diablitos - Video Oficial.mp4'"
            ],
            "application/vnd.google.colaboratory.intrinsic+json": {
              "type": "string"
            }
          },
          "metadata": {},
          "execution_count": 2
        }
      ]
    },
    {
      "cell_type": "markdown",
      "source": [
        "# - PARA DESCARGAR: AUDIO, VIDEO O AMBOS"
      ],
      "metadata": {
        "id": "lpJYWmlQCQaz"
      }
    },
    {
      "cell_type": "code",
      "source": [
        "# Importar las bibliotecas necesarias\n",
        "from pytube import YouTube\n",
        "from moviepy.editor import AudioFileClip\n",
        "import os\n",
        "\n",
        "# Definir una función para preguntar al usuario la opción deseada\n",
        "def preguntar_opcion():\n",
        "    print(\"¿Qué desea descargar?\")\n",
        "    print(\"1. Video\")\n",
        "    print(\"2. Audio\")\n",
        "    print(\"3. Ambos\")\n",
        "    opcion = input(\"Ingrese el número de la opción: \")\n",
        "    return opcion\n",
        "\n",
        "# Definir una función para descargar el video de YouTube\n",
        "def descargar_video(url):\n",
        "    # Crear un objeto YouTube con la url\n",
        "    yt = YouTube(url)\n",
        "    # Obtener el primer stream disponible\n",
        "    stream = yt.streams.get_highest_resolution()\n",
        "    # Descargar el video en la carpeta actual\n",
        "    stream.download()\n",
        "    # Retornar el nombre del archivo descargado\n",
        "    return stream.default_filename\n",
        "\n",
        "# Definir una función para extraer el audio del video\n",
        "def extraer_audio(video):\n",
        "    # Crear un objeto AudioFileClip con el nombre del video\n",
        "    clip = AudioFileClip(video)\n",
        "    # Obtener el nombre del archivo de audio\n",
        "    audio = video.split(\".\")[0] + \".mp3\"\n",
        "    # Escribir el audio en la carpeta actual\n",
        "    clip.write_audiofile(audio)\n",
        "    # Retornar el nombre del archivo de audio\n",
        "    return audio\n",
        "\n",
        "# Pedir al usuario la url del video de YouTube\n",
        "url = input(\"Ingrese la url del video de YouTube: \")\n",
        "\n",
        "# Pedir al usuario la opción deseada\n",
        "opcion = preguntar_opcion()\n",
        "\n",
        "# Si la opción es 1, descargar solo el video\n",
        "if opcion == \"1\":\n",
        "    video = descargar_video(url)\n",
        "    print(f\"Se ha descargado el video {video}\")\n",
        "\n",
        "# Si la opción es 2, descargar solo el audio\n",
        "elif opcion == \"2\":\n",
        "    video = descargar_video(url)\n",
        "    audio = extraer_audio(video)\n",
        "    # Borrar el archivo de video\n",
        "    os.remove(video)\n",
        "    print(f\"Se ha descargado el audio {audio}\")\n",
        "\n",
        "# Si la opción es 3, descargar ambos\n",
        "elif opcion == \"3\":\n",
        "    video = descargar_video(url)\n",
        "    audio = extraer_audio(video)\n",
        "    # Renombrar el archivo de video con otro nombre\n",
        "    nuevo_video = video.split(\".\")[0] + \"_con_audio.mp4\"\n",
        "    os.rename(video, nuevo_video)\n",
        "    print(f\"Se han descargado el video {nuevo_video} y el audio {audio}\")\n",
        "\n",
        "# Si la opción es otra, mostrar un mensaje de error\n",
        "else:\n",
        "    print(\"Opción inválida\")\n"
      ],
      "metadata": {
        "id": "i142XVqt8qwA"
      },
      "execution_count": null,
      "outputs": []
    },
    {
      "cell_type": "markdown",
      "source": [
        "NOTA: si en algún momento no puede descargar un archivo, solo debe desconectar y volver a conectar el colab."
      ],
      "metadata": {
        "id": "dqWVDupOC2pI"
      }
    }
  ]
}